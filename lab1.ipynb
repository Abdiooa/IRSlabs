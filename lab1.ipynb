{
 "cells": [
  {
   "cell_type": "markdown",
   "metadata": {},
   "source": [
    "### Задание 1"
   ]
  },
  {
   "cell_type": "code",
   "execution_count": 316,
   "metadata": {},
   "outputs": [
    {
     "name": "stdout",
     "output_type": "stream",
     "text": [
      "Requirement already satisfied: razdel in ./venv/env/lib/python3.8/site-packages (0.5.0)\n",
      "Requirement already satisfied: pymystem3 in ./venv/env/lib/python3.8/site-packages (0.2.0)\n",
      "Requirement already satisfied: requests in ./venv/env/lib/python3.8/site-packages (from pymystem3) (2.31.0)\n",
      "Requirement already satisfied: charset-normalizer<4,>=2 in ./venv/env/lib/python3.8/site-packages (from requests->pymystem3) (3.3.2)\n",
      "Requirement already satisfied: idna<4,>=2.5 in ./venv/env/lib/python3.8/site-packages (from requests->pymystem3) (3.6)\n",
      "Requirement already satisfied: urllib3<3,>=1.21.1 in ./venv/env/lib/python3.8/site-packages (from requests->pymystem3) (2.2.0)\n",
      "Requirement already satisfied: certifi>=2017.4.17 in ./venv/env/lib/python3.8/site-packages (from requests->pymystem3) (2024.2.2)\n",
      "Requirement already satisfied: spacy in ./venv/env/lib/python3.8/site-packages (3.7.4)\n",
      "Requirement already satisfied: spacy-legacy<3.1.0,>=3.0.11 in ./venv/env/lib/python3.8/site-packages (from spacy) (3.0.12)\n",
      "Requirement already satisfied: spacy-loggers<2.0.0,>=1.0.0 in ./venv/env/lib/python3.8/site-packages (from spacy) (1.0.5)\n",
      "Requirement already satisfied: murmurhash<1.1.0,>=0.28.0 in ./venv/env/lib/python3.8/site-packages (from spacy) (1.0.10)\n",
      "Requirement already satisfied: cymem<2.1.0,>=2.0.2 in ./venv/env/lib/python3.8/site-packages (from spacy) (2.0.8)\n",
      "Requirement already satisfied: preshed<3.1.0,>=3.0.2 in ./venv/env/lib/python3.8/site-packages (from spacy) (3.0.9)\n",
      "Requirement already satisfied: thinc<8.3.0,>=8.2.2 in ./venv/env/lib/python3.8/site-packages (from spacy) (8.2.3)\n",
      "Requirement already satisfied: wasabi<1.2.0,>=0.9.1 in ./venv/env/lib/python3.8/site-packages (from spacy) (1.1.2)\n",
      "Requirement already satisfied: srsly<3.0.0,>=2.4.3 in ./venv/env/lib/python3.8/site-packages (from spacy) (2.4.8)\n",
      "Requirement already satisfied: catalogue<2.1.0,>=2.0.6 in ./venv/env/lib/python3.8/site-packages (from spacy) (2.0.10)\n",
      "Requirement already satisfied: weasel<0.4.0,>=0.1.0 in ./venv/env/lib/python3.8/site-packages (from spacy) (0.3.4)\n",
      "Requirement already satisfied: typer<0.10.0,>=0.3.0 in ./venv/env/lib/python3.8/site-packages (from spacy) (0.9.0)\n",
      "Requirement already satisfied: smart-open<7.0.0,>=5.2.1 in ./venv/env/lib/python3.8/site-packages (from spacy) (6.4.0)\n",
      "Requirement already satisfied: tqdm<5.0.0,>=4.38.0 in ./venv/env/lib/python3.8/site-packages (from spacy) (4.66.2)\n",
      "Requirement already satisfied: requests<3.0.0,>=2.13.0 in ./venv/env/lib/python3.8/site-packages (from spacy) (2.31.0)\n",
      "Requirement already satisfied: pydantic!=1.8,!=1.8.1,<3.0.0,>=1.7.4 in ./venv/env/lib/python3.8/site-packages (from spacy) (2.6.1)\n",
      "Requirement already satisfied: jinja2 in ./venv/env/lib/python3.8/site-packages (from spacy) (3.1.3)\n",
      "Requirement already satisfied: setuptools in ./venv/env/lib/python3.8/site-packages (from spacy) (56.0.0)\n",
      "Requirement already satisfied: packaging>=20.0 in ./venv/env/lib/python3.8/site-packages (from spacy) (23.2)\n",
      "Requirement already satisfied: langcodes<4.0.0,>=3.2.0 in ./venv/env/lib/python3.8/site-packages (from spacy) (3.3.0)\n",
      "Requirement already satisfied: numpy>=1.15.0 in ./venv/env/lib/python3.8/site-packages (from spacy) (1.24.4)\n",
      "Requirement already satisfied: annotated-types>=0.4.0 in ./venv/env/lib/python3.8/site-packages (from pydantic!=1.8,!=1.8.1,<3.0.0,>=1.7.4->spacy) (0.6.0)\n",
      "Requirement already satisfied: pydantic-core==2.16.2 in ./venv/env/lib/python3.8/site-packages (from pydantic!=1.8,!=1.8.1,<3.0.0,>=1.7.4->spacy) (2.16.2)\n",
      "Requirement already satisfied: typing-extensions>=4.6.1 in ./venv/env/lib/python3.8/site-packages (from pydantic!=1.8,!=1.8.1,<3.0.0,>=1.7.4->spacy) (4.9.0)\n",
      "Requirement already satisfied: charset-normalizer<4,>=2 in ./venv/env/lib/python3.8/site-packages (from requests<3.0.0,>=2.13.0->spacy) (3.3.2)\n",
      "Requirement already satisfied: idna<4,>=2.5 in ./venv/env/lib/python3.8/site-packages (from requests<3.0.0,>=2.13.0->spacy) (3.6)\n",
      "Requirement already satisfied: urllib3<3,>=1.21.1 in ./venv/env/lib/python3.8/site-packages (from requests<3.0.0,>=2.13.0->spacy) (2.2.0)\n",
      "Requirement already satisfied: certifi>=2017.4.17 in ./venv/env/lib/python3.8/site-packages (from requests<3.0.0,>=2.13.0->spacy) (2024.2.2)\n",
      "Requirement already satisfied: blis<0.8.0,>=0.7.8 in ./venv/env/lib/python3.8/site-packages (from thinc<8.3.0,>=8.2.2->spacy) (0.7.11)\n",
      "Requirement already satisfied: confection<1.0.0,>=0.0.1 in ./venv/env/lib/python3.8/site-packages (from thinc<8.3.0,>=8.2.2->spacy) (0.1.4)\n",
      "Requirement already satisfied: click<9.0.0,>=7.1.1 in ./venv/env/lib/python3.8/site-packages (from typer<0.10.0,>=0.3.0->spacy) (8.1.7)\n",
      "Requirement already satisfied: cloudpathlib<0.17.0,>=0.7.0 in ./venv/env/lib/python3.8/site-packages (from weasel<0.4.0,>=0.1.0->spacy) (0.16.0)\n",
      "Requirement already satisfied: MarkupSafe>=2.0 in ./venv/env/lib/python3.8/site-packages (from jinja2->spacy) (2.1.5)\n",
      "Collecting ru-core-news-sm==3.7.0\n",
      "  Downloading https://github.com/explosion/spacy-models/releases/download/ru_core_news_sm-3.7.0/ru_core_news_sm-3.7.0-py3-none-any.whl (15.3 MB)\n",
      "\u001b[2K     \u001b[90m━━━━━━━━━━━━━━━━━━━━━━━━━━━━━━━━━━━━━━━\u001b[0m \u001b[32m15.3/15.3 MB\u001b[0m \u001b[31m104.6 kB/s\u001b[0m eta \u001b[36m0:00:00\u001b[0m00:01\u001b[0m00:04\u001b[0m\n",
      "\u001b[?25hRequirement already satisfied: spacy<3.8.0,>=3.7.0 in ./venv/env/lib/python3.8/site-packages (from ru-core-news-sm==3.7.0) (3.7.4)\n",
      "Requirement already satisfied: pymorphy3>=1.0.0 in ./venv/env/lib/python3.8/site-packages (from ru-core-news-sm==3.7.0) (2.0.1)\n",
      "Requirement already satisfied: dawg-python>=0.7.1 in ./venv/env/lib/python3.8/site-packages (from pymorphy3>=1.0.0->ru-core-news-sm==3.7.0) (0.7.2)\n",
      "Requirement already satisfied: pymorphy3-dicts-ru in ./venv/env/lib/python3.8/site-packages (from pymorphy3>=1.0.0->ru-core-news-sm==3.7.0) (2.4.417150.4580142)\n",
      "Requirement already satisfied: spacy-legacy<3.1.0,>=3.0.11 in ./venv/env/lib/python3.8/site-packages (from spacy<3.8.0,>=3.7.0->ru-core-news-sm==3.7.0) (3.0.12)\n",
      "Requirement already satisfied: spacy-loggers<2.0.0,>=1.0.0 in ./venv/env/lib/python3.8/site-packages (from spacy<3.8.0,>=3.7.0->ru-core-news-sm==3.7.0) (1.0.5)\n",
      "Requirement already satisfied: murmurhash<1.1.0,>=0.28.0 in ./venv/env/lib/python3.8/site-packages (from spacy<3.8.0,>=3.7.0->ru-core-news-sm==3.7.0) (1.0.10)\n",
      "Requirement already satisfied: cymem<2.1.0,>=2.0.2 in ./venv/env/lib/python3.8/site-packages (from spacy<3.8.0,>=3.7.0->ru-core-news-sm==3.7.0) (2.0.8)\n",
      "Requirement already satisfied: preshed<3.1.0,>=3.0.2 in ./venv/env/lib/python3.8/site-packages (from spacy<3.8.0,>=3.7.0->ru-core-news-sm==3.7.0) (3.0.9)\n",
      "Requirement already satisfied: thinc<8.3.0,>=8.2.2 in ./venv/env/lib/python3.8/site-packages (from spacy<3.8.0,>=3.7.0->ru-core-news-sm==3.7.0) (8.2.3)\n",
      "Requirement already satisfied: wasabi<1.2.0,>=0.9.1 in ./venv/env/lib/python3.8/site-packages (from spacy<3.8.0,>=3.7.0->ru-core-news-sm==3.7.0) (1.1.2)\n",
      "Requirement already satisfied: srsly<3.0.0,>=2.4.3 in ./venv/env/lib/python3.8/site-packages (from spacy<3.8.0,>=3.7.0->ru-core-news-sm==3.7.0) (2.4.8)\n",
      "Requirement already satisfied: catalogue<2.1.0,>=2.0.6 in ./venv/env/lib/python3.8/site-packages (from spacy<3.8.0,>=3.7.0->ru-core-news-sm==3.7.0) (2.0.10)\n",
      "Requirement already satisfied: weasel<0.4.0,>=0.1.0 in ./venv/env/lib/python3.8/site-packages (from spacy<3.8.0,>=3.7.0->ru-core-news-sm==3.7.0) (0.3.4)\n",
      "Requirement already satisfied: typer<0.10.0,>=0.3.0 in ./venv/env/lib/python3.8/site-packages (from spacy<3.8.0,>=3.7.0->ru-core-news-sm==3.7.0) (0.9.0)\n",
      "Requirement already satisfied: smart-open<7.0.0,>=5.2.1 in ./venv/env/lib/python3.8/site-packages (from spacy<3.8.0,>=3.7.0->ru-core-news-sm==3.7.0) (6.4.0)\n",
      "Requirement already satisfied: tqdm<5.0.0,>=4.38.0 in ./venv/env/lib/python3.8/site-packages (from spacy<3.8.0,>=3.7.0->ru-core-news-sm==3.7.0) (4.66.2)\n",
      "Requirement already satisfied: requests<3.0.0,>=2.13.0 in ./venv/env/lib/python3.8/site-packages (from spacy<3.8.0,>=3.7.0->ru-core-news-sm==3.7.0) (2.31.0)\n",
      "Requirement already satisfied: pydantic!=1.8,!=1.8.1,<3.0.0,>=1.7.4 in ./venv/env/lib/python3.8/site-packages (from spacy<3.8.0,>=3.7.0->ru-core-news-sm==3.7.0) (2.6.1)\n",
      "Requirement already satisfied: jinja2 in ./venv/env/lib/python3.8/site-packages (from spacy<3.8.0,>=3.7.0->ru-core-news-sm==3.7.0) (3.1.3)\n",
      "Requirement already satisfied: setuptools in ./venv/env/lib/python3.8/site-packages (from spacy<3.8.0,>=3.7.0->ru-core-news-sm==3.7.0) (56.0.0)\n",
      "Requirement already satisfied: packaging>=20.0 in ./venv/env/lib/python3.8/site-packages (from spacy<3.8.0,>=3.7.0->ru-core-news-sm==3.7.0) (23.2)\n",
      "Requirement already satisfied: langcodes<4.0.0,>=3.2.0 in ./venv/env/lib/python3.8/site-packages (from spacy<3.8.0,>=3.7.0->ru-core-news-sm==3.7.0) (3.3.0)\n",
      "Requirement already satisfied: numpy>=1.15.0 in ./venv/env/lib/python3.8/site-packages (from spacy<3.8.0,>=3.7.0->ru-core-news-sm==3.7.0) (1.24.4)\n",
      "Requirement already satisfied: annotated-types>=0.4.0 in ./venv/env/lib/python3.8/site-packages (from pydantic!=1.8,!=1.8.1,<3.0.0,>=1.7.4->spacy<3.8.0,>=3.7.0->ru-core-news-sm==3.7.0) (0.6.0)\n",
      "Requirement already satisfied: pydantic-core==2.16.2 in ./venv/env/lib/python3.8/site-packages (from pydantic!=1.8,!=1.8.1,<3.0.0,>=1.7.4->spacy<3.8.0,>=3.7.0->ru-core-news-sm==3.7.0) (2.16.2)\n",
      "Requirement already satisfied: typing-extensions>=4.6.1 in ./venv/env/lib/python3.8/site-packages (from pydantic!=1.8,!=1.8.1,<3.0.0,>=1.7.4->spacy<3.8.0,>=3.7.0->ru-core-news-sm==3.7.0) (4.9.0)\n",
      "Requirement already satisfied: charset-normalizer<4,>=2 in ./venv/env/lib/python3.8/site-packages (from requests<3.0.0,>=2.13.0->spacy<3.8.0,>=3.7.0->ru-core-news-sm==3.7.0) (3.3.2)\n",
      "Requirement already satisfied: idna<4,>=2.5 in ./venv/env/lib/python3.8/site-packages (from requests<3.0.0,>=2.13.0->spacy<3.8.0,>=3.7.0->ru-core-news-sm==3.7.0) (3.6)\n",
      "Requirement already satisfied: urllib3<3,>=1.21.1 in ./venv/env/lib/python3.8/site-packages (from requests<3.0.0,>=2.13.0->spacy<3.8.0,>=3.7.0->ru-core-news-sm==3.7.0) (2.2.0)\n",
      "Requirement already satisfied: certifi>=2017.4.17 in ./venv/env/lib/python3.8/site-packages (from requests<3.0.0,>=2.13.0->spacy<3.8.0,>=3.7.0->ru-core-news-sm==3.7.0) (2024.2.2)\n",
      "Requirement already satisfied: blis<0.8.0,>=0.7.8 in ./venv/env/lib/python3.8/site-packages (from thinc<8.3.0,>=8.2.2->spacy<3.8.0,>=3.7.0->ru-core-news-sm==3.7.0) (0.7.11)\n",
      "Requirement already satisfied: confection<1.0.0,>=0.0.1 in ./venv/env/lib/python3.8/site-packages (from thinc<8.3.0,>=8.2.2->spacy<3.8.0,>=3.7.0->ru-core-news-sm==3.7.0) (0.1.4)\n",
      "Requirement already satisfied: click<9.0.0,>=7.1.1 in ./venv/env/lib/python3.8/site-packages (from typer<0.10.0,>=0.3.0->spacy<3.8.0,>=3.7.0->ru-core-news-sm==3.7.0) (8.1.7)\n",
      "Requirement already satisfied: cloudpathlib<0.17.0,>=0.7.0 in ./venv/env/lib/python3.8/site-packages (from weasel<0.4.0,>=0.1.0->spacy<3.8.0,>=3.7.0->ru-core-news-sm==3.7.0) (0.16.0)\n",
      "Requirement already satisfied: MarkupSafe>=2.0 in ./venv/env/lib/python3.8/site-packages (from jinja2->spacy<3.8.0,>=3.7.0->ru-core-news-sm==3.7.0) (2.1.5)\n",
      "\u001b[38;5;2m✔ Download and installation successful\u001b[0m\n",
      "You can now load the package via spacy.load('ru_core_news_sm')\n"
     ]
    }
   ],
   "source": [
    "!pip install razdel\n",
    "!pip install pymystem3\n",
    "!pip install spacy\n",
    "!python -m spacy download ru_core_news_sm"
   ]
  },
  {
   "cell_type": "markdown",
   "metadata": {},
   "source": [
    "### 1. sentenize из razdel"
   ]
  },
  {
   "cell_type": "markdown",
   "metadata": {},
   "source": [
    "Найдите 1 любой способ сломать токенизацию на предложения функцией sentenize из библиотеки razdel. Придумайте (или найдите на каком-то корпусе) такое предложение (или несколько предложений), которое будет некорректно разобрано sentenize, но при этом будет грамматически корректным."
   ]
  },
  {
   "cell_type": "code",
   "execution_count": 317,
   "metadata": {},
   "outputs": [],
   "source": [
    "from razdel import sentenize, tokenize\n",
    "text = \"\"\"Г-н. Иванов пришел в 10 утра, но забыл ключи. Мисс. Петрова пришла в 11 утра, но не смогла открыть дверь.\n",
    "После этого она решила позвонить Г-ну. Сидорову, но телефон был не доступен.\"\"\"\n"
   ]
  },
  {
   "cell_type": "code",
   "execution_count": 318,
   "metadata": {},
   "outputs": [],
   "source": [
    "def sentenize_razel(text):\n",
    "    sentences = [sent.text for sent in sentenize(text)]\n",
    "    return sentences"
   ]
  },
  {
   "cell_type": "code",
   "execution_count": 319,
   "metadata": {},
   "outputs": [
    {
     "data": {
      "text/plain": [
       "['Г-н.',\n",
       " 'Иванов пришел в 10 утра, но забыл ключи.',\n",
       " 'Мисс.',\n",
       " 'Петрова пришла в 11 утра, но не смогла открыть дверь.',\n",
       " 'После этого она решила позвонить Г-ну.',\n",
       " 'Сидорову, но телефон был не доступен.']"
      ]
     },
     "execution_count": 319,
     "metadata": {},
     "output_type": "execute_result"
    }
   ],
   "source": [
    "sentences = sentenize_razel(text)\n",
    "sentences"
   ]
  },
  {
   "cell_type": "code",
   "execution_count": 320,
   "metadata": {},
   "outputs": [
    {
     "data": {
      "text/plain": [
       "['Это предложение оканчивается аббревиатурой Mr. и приветственным пунктуационным знаком!',\n",
       " 'Хотя оно не соблюдает стандартный шаблон окончания предложения.']"
      ]
     },
     "execution_count": 320,
     "metadata": {},
     "output_type": "execute_result"
    }
   ],
   "source": [
    "text = \"Это предложение оканчивается аббревиатурой Mr. и приветственным пунктуационным знаком! Хотя оно не соблюдает стандартный шаблон окончания предложения.\"\n",
    "sentences = sentenize_razel(text)\n",
    "sentences"
   ]
  },
  {
   "cell_type": "markdown",
   "metadata": {},
   "source": [
    "### 2. Токенизация Mystem vs razdel.tokenize"
   ]
  },
  {
   "cell_type": "code",
   "execution_count": 321,
   "metadata": {},
   "outputs": [],
   "source": [
    "from razdel import tokenize\n",
    "def tokenize_razdel(text):\n",
    "    tokens = [token.text for token in tokenize(text)]\n",
    "    return tokens"
   ]
  },
  {
   "cell_type": "code",
   "execution_count": 322,
   "metadata": {},
   "outputs": [],
   "source": [
    "from pymystem3 import Mystem\n",
    "def tokenize_mystem(text):\n",
    "    mystem = Mystem()\n",
    "    tokens = mystem.analyze(text)\n",
    "    tokens = [item['text'] for item in tokens if 'text' in item]\n",
    "    tokens = [token.strip() for token in tokens if token.strip()]\n",
    "    return tokens"
   ]
  },
  {
   "cell_type": "code",
   "execution_count": 323,
   "metadata": {},
   "outputs": [],
   "source": [
    "text = \"\"\"\n",
    "Вторым и третьим открытыми белыми карликами стали Сириус B и Процион B. В 1844 году директор Кёнигсбергской обсерватории Фридрих Бессель, анализируя данные наблюдений, которые велись с 1755 года, обнаружил, что Сириус, ярчайшая звезда земного неба, и Процион периодически, хотя и весьма слабо, отклоняются от прямолинейной траектории движения по небесной сфере[5]. Бессель пришёл к выводу, что у каждой из них должен быть близкий спутник. Сообщение было встречено скептически, поскольку слабый спутник оставался ненаблюдаемым, а его масса должна была быть достаточно велика — сравнимой с массой Сириуса и Проциона, соответственно.\n",
    "\n",
    "В январе 1862 года Элвин Грэхэм Кларк, юстируя 18-дюймовый рефрактор, самый большой на то время телескоп в мире (Dearborn Telescope), впоследствии поставленный семейной фирмой Кларков в обсерваторию Чикагского университета, обнаружил в непосредственной близости от Сириуса тусклую звёздочку. Это был спутник Сириуса, Сириус B, предсказанный Бесселем[6]. А в 1896 году американский астроном Д. М. Шеберле открыл Процион B, подтвердив тем самым и второе предсказание Бесселя.\n",
    "\n",
    "В 1915 году американский астроном Уолтер Сидней Адамс измерил спектр Сириуса B. Из измерений следовало, что его температура не ниже, чем у Сириуса A (по современным данным, температура поверхности Сириуса B составляет 25 000 K, а Сириуса A — 10 000 К), что, с учётом его в 10 000 раз меньшей, чем у Сириуса A, светимости указывает на очень малый радиус и, соответственно, высокую плотность — 106 г/см3 (плотность Сириуса ~0,25 г/см3, плотность Солнца ~1,4 г/см3).\n",
    "\"\"\""
   ]
  },
  {
   "cell_type": "code",
   "execution_count": 324,
   "metadata": {},
   "outputs": [
    {
     "name": "stdout",
     "output_type": "stream",
     "text": [
      "['Вторым', 'и', 'третьим', 'открытыми', 'белыми', 'карликами', 'стали', 'Сириус', 'B', 'и', 'Процион', 'B', '.', 'В', '1844', 'году', 'директор', 'Кёнигсбергской', 'обсерватории', 'Фридрих', 'Бессель', ',', 'анализируя', 'данные', 'наблюдений', ',', 'которые', 'велись', 'с', '1755', 'года', ',', 'обнаружил', ',', 'что', 'Сириус', ',', 'ярчайшая', 'звезда', 'земного', 'неба', ',', 'и', 'Процион', 'периодически', ',', 'хотя', 'и', 'весьма', 'слабо', ',', 'отклоняются', 'от', 'прямолинейной', 'траектории', 'движения', 'по', 'небесной', 'сфере', '[', '5', ']', '.', 'Бессель', 'пришёл', 'к', 'выводу', ',', 'что', 'у', 'каждой', 'из', 'них', 'должен', 'быть', 'близкий', 'спутник', '.', 'Сообщение', 'было', 'встречено', 'скептически', ',', 'поскольку', 'слабый', 'спутник', 'оставался', 'ненаблюдаемым', ',', 'а', 'его', 'масса', 'должна', 'была', 'быть', 'достаточно', 'велика', '—', 'сравнимой', 'с', 'массой', 'Сириуса', 'и', 'Проциона', ',', 'соответственно', '.', 'В', 'январе', '1862', 'года', 'Элвин', 'Грэхэм', 'Кларк', ',', 'юстируя', '18-дюймовый', 'рефрактор', ',', 'самый', 'большой', 'на', 'то', 'время', 'телескоп', 'в', 'мире', '(', 'Dearborn', 'Telescope', ')', ',', 'впоследствии', 'поставленный', 'семейной', 'фирмой', 'Кларков', 'в', 'обсерваторию', 'Чикагского', 'университета', ',', 'обнаружил', 'в', 'непосредственной', 'близости', 'от', 'Сириуса', 'тусклую', 'звёздочку', '.', 'Это', 'был', 'спутник', 'Сириуса', ',', 'Сириус', 'B', ',', 'предсказанный', 'Бесселем', '[', '6', ']', '.', 'А', 'в', '1896', 'году', 'американский', 'астроном', 'Д', '.', 'М', '.', 'Шеберле', 'открыл', 'Процион', 'B', ',', 'подтвердив', 'тем', 'самым', 'и', 'второе', 'предсказание', 'Бесселя', '.', 'В', '1915', 'году', 'американский', 'астроном', 'Уолтер', 'Сидней', 'Адамс', 'измерил', 'спектр', 'Сириуса', 'B', '.', 'Из', 'измерений', 'следовало', ',', 'что', 'его', 'температура', 'не', 'ниже', ',', 'чем', 'у', 'Сириуса', 'A', '(', 'по', 'современным', 'данным', ',', 'температура', 'поверхности', 'Сириуса', 'B', 'составляет', '25', '000', 'K', ',', 'а', 'Сириуса', 'A', '—', '10', '000', 'К', ')', ',', 'что', ',', 'с', 'учётом', 'его', 'в', '10', '000', 'раз', 'меньшей', ',', 'чем', 'у', 'Сириуса', 'A', ',', 'светимости', 'указывает', 'на', 'очень', 'малый', 'радиус', 'и', ',', 'соответственно', ',', 'высокую', 'плотность', '—', '106', 'г', '/', 'см', '3', '(', 'плотность', 'Сириуса', '~', '0,25', 'г', '/', 'см', '3', ',', 'плотность', 'Солнца', '~', '1,4', 'г', '/', 'см', '3', ')', '.']\n"
     ]
    }
   ],
   "source": [
    "tokens_ra = tokenize_razdel(text)\n",
    "print(tokens_ra)"
   ]
  },
  {
   "cell_type": "code",
   "execution_count": 325,
   "metadata": {},
   "outputs": [
    {
     "name": "stdout",
     "output_type": "stream",
     "text": [
      "['Вторым', 'и', 'третьим', 'открытыми', 'белыми', 'карликами', 'стали', 'Сириус', 'B', 'и', 'Процион', 'B', '.', 'В', '1844', 'году', 'директор', 'Кёнигсбергской', 'обсерватории', 'Фридрих', 'Бессель', ',', 'анализируя', 'данные', 'наблюдений', ',', 'которые', 'велись', 'с', '1755', 'года', ',', 'обнаружил', ',', 'что', 'Сириус', ',', 'ярчайшая', 'звезда', 'земного', 'неба', ',', 'и', 'Процион', 'периодически', ',', 'хотя', 'и', 'весьма', 'слабо', ',', 'отклоняются', 'от', 'прямолинейной', 'траектории', 'движения', 'по', 'небесной', 'сфере', '[', '5', ']', '.', 'Бессель', 'пришёл', 'к', 'выводу', ',', 'что', 'у', 'каждой', 'из', 'них', 'должен', 'быть', 'близкий', 'спутник', '.', 'Сообщение', 'было', 'встречено', 'скептически', ',', 'поскольку', 'слабый', 'спутник', 'оставался', 'ненаблюдаемым', ',', 'а', 'его', 'масса', 'должна', 'была', 'быть', 'достаточно', 'велика', '—', 'сравнимой', 'с', 'массой', 'Сириуса', 'и', 'Проциона', ',', 'соответственно', '.', 'В', 'январе', '1862', 'года', 'Элвин', 'Грэхэм', 'Кларк', ',', 'юстируя', '18', '-', 'дюймовый', 'рефрактор', ',', 'самый', 'большой', 'на', 'то', 'время', 'телескоп', 'в', 'мире', '(', 'Dearborn', 'Telescope', '),', 'впоследствии', 'поставленный', 'семейной', 'фирмой', 'Кларков', 'в', 'обсерваторию', 'Чикагского', 'университета', ',', 'обнаружил', 'в', 'непосредственной', 'близости', 'от', 'Сириуса', 'тусклую', 'звёздочку', '.', 'Это', 'был', 'спутник', 'Сириуса', ',', 'Сириус', 'B', ',', 'предсказанный', 'Бесселем', '[', '6', ']', '.', 'А', 'в', '1896', 'году', 'американский', 'астроном', 'Д', '.', 'М', '.', 'Шеберле', 'открыл', 'Процион', 'B', ',', 'подтвердив', 'тем', 'самым', 'и', 'второе', 'предсказание', 'Бесселя', '.', 'В', '1915', 'году', 'американский', 'астроном', 'Уолтер', 'Сидней', 'Адамс', 'измерил', 'спектр', 'Сириуса', 'B', '.', 'Из', 'измерений', 'следовало', ',', 'что', 'его', 'температура', 'не', 'ниже', ',', 'чем', 'у', 'Сириуса', 'A', '(', 'по', 'современным', 'данным', ',', 'температура', 'поверхности', 'Сириуса', 'B', 'составляет', '25', '000', 'K', ',', 'а', 'Сириуса', 'A', '—', '10', '000', 'К', '),', 'что', ',', 'с', 'учётом', 'его', 'в', '10', '000', 'раз', 'меньшей', ',', 'чем', 'у', 'Сириуса', 'A', ',', 'светимости', 'указывает', 'на', 'очень', 'малый', 'радиус', 'и', ',', 'соответственно', ',', 'высокую', 'плотность', '—', '106', 'г', '/', 'см3', '(', 'плотность', 'Сириуса', '~', '0', ',', '25', 'г', '/', 'см3', ',', 'плотность', 'Солнца', '~', '1', ',', '4', 'г', '/', 'см3', ')', '.']\n"
     ]
    }
   ],
   "source": [
    "tokens_mystem = tokenize_mystem(text)\n",
    "print(tokens_mystem)"
   ]
  },
  {
   "cell_type": "code",
   "execution_count": 326,
   "metadata": {},
   "outputs": [],
   "source": [
    "def compare_tokenizations(tokens_ra, tokens_mystem):\n",
    "    razdel_set = set(tokens_ra)\n",
    "    mystem_set = set(tokens_mystem)\n",
    "    \n",
    "    common_tokens = razdel_set.intersection(mystem_set)\n",
    "    razdel_unique = razdel_set - mystem_set\n",
    "    mystem_unique = mystem_set - razdel_set\n",
    "    \n",
    "    common_count = len(common_tokens)\n",
    "    razdel_count = len(tokens_ra)\n",
    "    mystem_count = len(tokens_mystem)\n",
    "    \n",
    "    print(\"Tokenization Comparison:\")\n",
    "    print(\"------------------------\")\n",
    "    print(\"Razdel Token Count:\", razdel_count)\n",
    "    print(\"Mystem Token Count:\", mystem_count)\n",
    "    print(\"Common Tokens Count:\", common_count)\n",
    "    print(\"Razdel Unique Tokens Count:\", len(razdel_unique))\n",
    "    print(\"Mystem Unique Tokens Count:\", len(mystem_unique))\n",
    "    print(\"\\nTokens present in both razdel and Mystem:\", common_tokens)\n",
    "    print(\"\\nTokens present in razdel but not in Mystem:\", razdel_unique)\n",
    "    print(\"\\nTokens present in Mystem but not in razdel:\", mystem_unique)\n"
   ]
  },
  {
   "cell_type": "code",
   "execution_count": 327,
   "metadata": {},
   "outputs": [
    {
     "name": "stdout",
     "output_type": "stream",
     "text": [
      "Tokenization Comparison:\n",
      "------------------------\n",
      "Razdel Token Count: 292\n",
      "Mystem Token Count: 293\n",
      "Common Tokens Count: 169\n",
      "Razdel Unique Tokens Count: 5\n",
      "Mystem Unique Tokens Count: 8\n",
      "\n",
      "Tokens present in both razdel and Mystem: {'что', 'стали', 'второе', '—', '/', 'Бесселя', 'была', 'наблюдений', 'достаточно', 'данные', 'а', 'радиус', 'М', '1755', 'пришёл', '1896', 'Бессель', 'хотя', 'телескоп', 'рефрактор', 'Сидней', 'А', 'соответственно', 'в', 'Шеберле', 'Солнца', 'плотность', '000', 'ненаблюдаемым', '[', '25', 'Сириус', 'из', 'большой', 'Вторым', 'астроном', 'ярчайшая', 'траектории', 'не', 'поскольку', 'открытыми', 'весьма', 'семейной', 'был', 'выводу', 'время', 'Фридрих', 'у', 'Процион', 'чем', 'подтвердив', 'белыми', 'было', 'Dearborn', 'велика', 'Чикагского', 'A', 'велись', '1915', 'сфере', 'составляет', 'то', '6', 'меньшей', 'мире', 'от', 'движения', 'измерил', 'малый', 'его', 'к', 'тусклую', 'обнаружил', 'Кёнигсбергской', 'K', 'поставленный', 'юстируя', 'поверхности', 'данным', 'учётом', 'ниже', 'сравнимой', 'температура', 'Элвин', 'обсерваторию', 'массой', 'Сириуса', 'звезда', ')', 'университета', 'анализируя', 'указывает', 'года', 'с', 'них', 'встречено', '10', 'году', 'обсерватории', 'тем', 'самым', 'масса', 'г', 'Кларк', ',', 'открыл', ']', 'прямолинейной', 'К', 'предсказание', '(', 'фирмой', 'современным', 'предсказанный', '1862', 'Telescope', 'звёздочку', 'должен', 'Д', '~', 'небесной', 'периодически', 'близкий', 'следовало', 'земного', 'должна', 'очень', 'спектр', 'непосредственной', 'Уолтер', 'на', 'неба', '.', 'близости', 'директор', 'быть', 'каждой', 'измерений', 'B', 'слабо', 'отклоняются', 'Из', '1844', 'светимости', '106', 'по', 'Грэхэм', 'Кларков', 'скептически', 'В', 'январе', 'третьим', 'Адамс', 'раз', 'и', 'Это', 'спутник', 'американский', 'Бесселем', 'слабый', '5', 'карликами', 'оставался', 'Проциона', 'Сообщение', 'самый', 'которые', 'впоследствии', 'высокую'}\n",
      "\n",
      "Tokens present in razdel but not in Mystem: {'1,4', '18-дюймовый', '3', 'см', '0,25'}\n",
      "\n",
      "Tokens present in Mystem but not in razdel: {'см3', '18', '),', '-', '0', '1', '4', 'дюймовый'}\n"
     ]
    }
   ],
   "source": [
    "compare_tokenizations(tokens_ra, tokens_mystem)"
   ]
  },
  {
   "cell_type": "markdown",
   "metadata": {},
   "source": [
    "### 3. Лемматизация Mystem vs Pymorphy"
   ]
  },
  {
   "cell_type": "code",
   "execution_count": 328,
   "metadata": {},
   "outputs": [
    {
     "name": "stdout",
     "output_type": "stream",
     "text": [
      "Collecting git+https://github.com/kmike/pymorphy2.git\n",
      "  Cloning https://github.com/kmike/pymorphy2.git to /tmp/pip-req-build-9xxpdl5d\n",
      "  Running command git clone --filter=blob:none --quiet https://github.com/kmike/pymorphy2.git /tmp/pip-req-build-9xxpdl5d\n",
      "  Resolved https://github.com/kmike/pymorphy2.git to commit 92d546f042ff14601376d3646242908d5ab786c1\n",
      "  Installing build dependencies ... \u001b[?25ldone\n",
      "\u001b[?25h  Getting requirements to build wheel ... \u001b[?25ldone\n",
      "\u001b[?25h  Installing backend dependencies ... \u001b[?25ldone\n",
      "\u001b[?25h  Preparing metadata (pyproject.toml) ... \u001b[?25ldone\n",
      "\u001b[?25hRequirement already satisfied: dawg-python>=0.7.1 in ./venv/env/lib/python3.8/site-packages (from pymorphy2==0.9.1) (0.7.2)\n",
      "Requirement already satisfied: pymorphy2-dicts-ru<3.0,>=2.4 in ./venv/env/lib/python3.8/site-packages (from pymorphy2==0.9.1) (2.4.417127.4579844)\n",
      "Requirement already satisfied: docopt>=0.6 in ./venv/env/lib/python3.8/site-packages (from pymorphy2==0.9.1) (0.6.2)\n"
     ]
    }
   ],
   "source": [
    "!pip install git+https://github.com/kmike/pymorphy2.git"
   ]
  },
  {
   "cell_type": "code",
   "execution_count": 329,
   "metadata": {},
   "outputs": [],
   "source": [
    "mystem = Mystem()\n",
    "words_analized = mystem.analyze(text)\n",
    "mystem_lemmas= [parse['analysis'][0]['lex'] for parse in words_analized if parse.get('analysis')]\n",
    "# mystem_lemmas = mystem.lemmatize(text)\n",
    "# mystem_lemmas = [lemma.strip() for lemma in mystem_lemmas if lemma.strip()]\n",
    "# mystem_tokens = [token.text for token in tokenize(text)]\n",
    "# mystem_lemmas = mystem.lemmatize(' '.join(mystem_tokens))"
   ]
  },
  {
   "cell_type": "code",
   "execution_count": 330,
   "metadata": {},
   "outputs": [],
   "source": [
    "from pymorphy2 import MorphAnalyzer\n",
    "morph_analyzer = MorphAnalyzer()\n",
    "pymorphy_lemmas = [morph_analyzer.parse(token)[0].normal_form for token in tokens_mystem]\n"
   ]
  },
  {
   "cell_type": "code",
   "execution_count": 331,
   "metadata": {},
   "outputs": [
    {
     "name": "stdout",
     "output_type": "stream",
     "text": [
      "Lemmas using Mystem:\n",
      "['второй', 'и', 'третий', 'открытый', 'белый', 'карлик', 'становиться', 'сириус', 'и', 'процион', 'в', 'год', 'директор', 'кенигсбергский', 'обсерватория', 'фридрих', 'бессель', 'анализировать', 'данные', 'наблюдение', 'который', 'вестись', 'с', 'год', 'обнаруживать', 'что', 'сириус', 'яркий', 'звезда', 'земной', 'небо', 'и', 'процион', 'периодически', 'хотя', 'и', 'весьма', 'слабо', 'отклоняться', 'от', 'прямолинейный', 'траектория', 'движение', 'по', 'небесный', 'сфера', 'бессель', 'приходить', 'к', 'вывод', 'что', 'у', 'каждый', 'из', 'они', 'должный', 'быть', 'близкий', 'спутник', 'сообщение', 'быть', 'встречать', 'скептически', 'поскольку', 'слабый', 'спутник', 'оставаться', 'ненаблюдаемый', 'а', 'его', 'масса', 'должный', 'быть', 'быть', 'достаточно', 'большой', 'сравнимый', 'с', 'масса', 'сириус', 'и', 'процион', 'соответственно', 'в', 'январь', 'год', 'элвин', 'грэхэм', 'кларк', 'юстировать', 'дюймовый', 'рефрактор', 'самый', 'большой', 'на', 'то', 'время', 'телескоп', 'в', 'мир', 'впоследствии', 'поставлять', 'семейный', 'фирма', 'кларк', 'в', 'обсерватория', 'чикагский', 'университет', 'обнаруживать', 'в', 'непосредственный', 'близость', 'от', 'сириус', 'тусклый', 'звездочка', 'это', 'быть', 'спутник', 'сириус', 'сириус', 'предсказывать', 'бессель', 'а', 'в', 'год', 'американский', 'астроном', 'д', 'м', 'шеберль', 'открывать', 'процион', 'подтвердить', 'то', 'самый', 'и', 'второй', 'предсказание', 'бессель', 'в', 'год', 'американский', 'астроном', 'уолтер', 'сидней', 'адамс', 'измерять', 'спектр', 'сириус', 'из', 'измерение', 'следовать', 'что', 'его', 'температура', 'не', 'низкий', 'чем', 'у', 'сириус', 'по', 'современный', 'данные', 'температура', 'поверхность', 'сириус', 'составлять', 'а', 'сириус', 'к', 'что', 'с', 'учет', 'он', 'в', 'раз', 'меньший', 'чем', 'у', 'сириус', 'светимость', 'указывать', 'на', 'очень', 'малый', 'радиус', 'и', 'соответственно', 'высокий', 'плотность', 'г', 'плотность', 'сириус', 'г', 'плотность', 'солнце', 'г']\n"
     ]
    }
   ],
   "source": [
    "print(\"Lemmas using Mystem:\")\n",
    "print(mystem_lemmas)"
   ]
  },
  {
   "cell_type": "code",
   "execution_count": 332,
   "metadata": {},
   "outputs": [
    {
     "name": "stdout",
     "output_type": "stream",
     "text": [
      "\n",
      "Lemmas using Pymorphy:\n",
      "['второй', 'и', 'третий', 'открытый', 'белый', 'карлик', 'стать', 'сириус', 'b', 'и', 'процион', 'b', '.', 'в', '1844', 'год', 'директор', 'кёнигсбергский', 'обсерватория', 'фридрих', 'бессель', ',', 'анализировать', 'дать', 'наблюдение', ',', 'который', 'вестись', 'с', '1755', 'год', ',', 'обнаружить', ',', 'что', 'сириус', ',', 'яркий', 'звезда', 'земной', 'небо', ',', 'и', 'процион', 'периодически', ',', 'хотя', 'и', 'весьма', 'слабо', ',', 'отклоняться', 'от', 'прямолинейный', 'траектория', 'движение', 'по', 'небесный', 'сфера', '[', '5', ']', '.', 'бессель', 'прийти', 'к', 'вывод', ',', 'что', 'у', 'каждый', 'из', 'они', 'должный', 'быть', 'близкий', 'спутник', '.', 'сообщение', 'быть', 'встретить', 'скептически', ',', 'поскольку', 'слабый', 'спутник', 'оставаться', 'ненаблюдаемый', ',', 'а', 'он', 'масса', 'должный', 'быть', 'быть', 'достаточно', 'большой', '—', 'сравнимый', 'с', 'масса', 'сириус', 'и', 'процион', ',', 'соответственно', '.', 'в', 'январь', '1862', 'год', 'элвин', 'грэхэма', 'кларк', ',', 'юстировать', '18', '-', 'дюймовый', 'рефрактор', ',', 'самый', 'большой', 'на', 'то', 'время', 'телескоп', 'в', 'мир', '(', 'dearborn', 'telescope', '),', 'впоследствии', 'поставить', 'семейный', 'фирма', 'кларк', 'в', 'обсерватория', 'чикагский', 'университет', ',', 'обнаружить', 'в', 'непосредственный', 'близость', 'от', 'сириус', 'тусклый', 'звёздочка', '.', 'это', 'быть', 'спутник', 'сириус', ',', 'сириус', 'b', ',', 'предсказать', 'бессель', '[', '6', ']', '.', 'а', 'в', '1896', 'год', 'американский', 'астроном', 'далее', '.', 'м', '.', 'шеберл', 'открыть', 'процион', 'b', ',', 'подтвердить', 'тем', 'самый', 'и', 'второе', 'предсказание', 'бессель', '.', 'в', '1915', 'год', 'американский', 'астроном', 'уолтер', 'сидней', 'адамс', 'измерить', 'спектр', 'сириус', 'b', '.', 'из', 'измерение', 'следовать', ',', 'что', 'он', 'температура', 'не', 'ниже', ',', 'чем', 'у', 'сириус', 'a', '(', 'по', 'современный', 'данные', ',', 'температура', 'поверхность', 'сириус', 'b', 'составлять', '25', '000', 'k', ',', 'а', 'сириус', 'a', '—', '10', '000', 'к', '),', 'что', ',', 'с', 'учёт', 'он', 'в', '10', '000', 'раз', 'малый', ',', 'чем', 'у', 'сириус', 'a', ',', 'светимость', 'указывать', 'на', 'очень', 'малый', 'радиус', 'и', ',', 'соответственно', ',', 'высокий', 'плотность', '—', '106', 'г', '/', 'см3', '(', 'плотность', 'сириус', '~', '0', ',', '25', 'г', '/', 'см3', ',', 'плотность', 'солнце', '~', '1', ',', '4', 'г', '/', 'см3', ')', '.']\n"
     ]
    }
   ],
   "source": [
    "print(\"\\nLemmas using Pymorphy:\")\n",
    "print(pymorphy_lemmas)"
   ]
  },
  {
   "cell_type": "code",
   "execution_count": 333,
   "metadata": {},
   "outputs": [
    {
     "name": "stdout",
     "output_type": "stream",
     "text": [
      "Similar Tokens Comparison:\n",
      "---------------------------\n",
      "Mystem Lemma: второй               Pymorphy Lemma: второй\n",
      "Mystem Lemma: и                    Pymorphy Lemma: и\n",
      "Mystem Lemma: третий               Pymorphy Lemma: третий\n",
      "Mystem Lemma: открытый             Pymorphy Lemma: открытый\n",
      "Mystem Lemma: белый                Pymorphy Lemma: белый\n",
      "Mystem Lemma: карлик               Pymorphy Lemma: карлик\n",
      "Mystem Lemma: становиться          Pymorphy Lemma: отклоняться\n",
      "Mystem Lemma: сириус               Pymorphy Lemma: сириус\n",
      "Mystem Lemma: и                    Pymorphy Lemma: и\n",
      "Mystem Lemma: процион              Pymorphy Lemma: процион\n",
      "Mystem Lemma: в                    Pymorphy Lemma: в\n",
      "Mystem Lemma: год                  Pymorphy Lemma: год\n",
      "Mystem Lemma: директор             Pymorphy Lemma: директор\n",
      "Mystem Lemma: кенигсбергский       Pymorphy Lemma: кёнигсбергский\n",
      "Mystem Lemma: обсерватория         Pymorphy Lemma: обсерватория\n",
      "Mystem Lemma: фридрих              Pymorphy Lemma: фридрих\n",
      "Mystem Lemma: бессель              Pymorphy Lemma: бессель\n",
      "Mystem Lemma: анализировать        Pymorphy Lemma: анализировать\n",
      "Mystem Lemma: данные               Pymorphy Lemma: данные\n",
      "Mystem Lemma: наблюдение           Pymorphy Lemma: наблюдение\n",
      "Mystem Lemma: который              Pymorphy Lemma: который\n",
      "Mystem Lemma: вестись              Pymorphy Lemma: вестись\n",
      "Mystem Lemma: с                    Pymorphy Lemma: с\n",
      "Mystem Lemma: год                  Pymorphy Lemma: год\n",
      "Mystem Lemma: обнаруживать         Pymorphy Lemma: обнаружить\n",
      "Mystem Lemma: что                  Pymorphy Lemma: что\n",
      "Mystem Lemma: сириус               Pymorphy Lemma: сириус\n",
      "Mystem Lemma: яркий                Pymorphy Lemma: яркий\n",
      "Mystem Lemma: звезда               Pymorphy Lemma: звезда\n",
      "Mystem Lemma: земной               Pymorphy Lemma: земной\n",
      "Mystem Lemma: небо                 Pymorphy Lemma: небо\n",
      "Mystem Lemma: и                    Pymorphy Lemma: и\n",
      "Mystem Lemma: процион              Pymorphy Lemma: процион\n",
      "Mystem Lemma: периодически         Pymorphy Lemma: периодически\n",
      "Mystem Lemma: хотя                 Pymorphy Lemma: хотя\n",
      "Mystem Lemma: и                    Pymorphy Lemma: и\n",
      "Mystem Lemma: весьма               Pymorphy Lemma: весьма\n",
      "Mystem Lemma: слабо                Pymorphy Lemma: слабо\n",
      "Mystem Lemma: отклоняться          Pymorphy Lemma: отклоняться\n",
      "Mystem Lemma: от                   Pymorphy Lemma: от\n",
      "Mystem Lemma: прямолинейный        Pymorphy Lemma: прямолинейный\n",
      "Mystem Lemma: траектория           Pymorphy Lemma: директор\n",
      "Mystem Lemma: движение             Pymorphy Lemma: движение\n",
      "Mystem Lemma: по                   Pymorphy Lemma: по\n",
      "Mystem Lemma: небесный             Pymorphy Lemma: небесный\n",
      "Mystem Lemma: сфера                Pymorphy Lemma: сфера\n",
      "Mystem Lemma: бессель              Pymorphy Lemma: бессель\n",
      "Mystem Lemma: к                    Pymorphy Lemma: к\n",
      "Mystem Lemma: вывод                Pymorphy Lemma: вывод\n",
      "Mystem Lemma: что                  Pymorphy Lemma: что\n",
      "Mystem Lemma: у                    Pymorphy Lemma: у\n",
      "Mystem Lemma: каждый               Pymorphy Lemma: каждый\n",
      "Mystem Lemma: из                   Pymorphy Lemma: и\n",
      "Mystem Lemma: они                  Pymorphy Lemma: они\n",
      "Mystem Lemma: должный              Pymorphy Lemma: должный\n",
      "Mystem Lemma: быть                 Pymorphy Lemma: дать\n",
      "Mystem Lemma: близкий              Pymorphy Lemma: близкий\n",
      "Mystem Lemma: спутник              Pymorphy Lemma: спутник\n",
      "Mystem Lemma: сообщение            Pymorphy Lemma: сообщение\n",
      "Mystem Lemma: быть                 Pymorphy Lemma: дать\n",
      "Mystem Lemma: встречать            Pymorphy Lemma: встретить\n",
      "Mystem Lemma: скептически          Pymorphy Lemma: скептически\n",
      "Mystem Lemma: поскольку            Pymorphy Lemma: поскольку\n",
      "Mystem Lemma: слабый               Pymorphy Lemma: слабо\n",
      "Mystem Lemma: спутник              Pymorphy Lemma: спутник\n",
      "Mystem Lemma: оставаться           Pymorphy Lemma: оставаться\n",
      "Mystem Lemma: ненаблюдаемый        Pymorphy Lemma: ненаблюдаемый\n",
      "Mystem Lemma: а                    Pymorphy Lemma: а\n",
      "Mystem Lemma: масса                Pymorphy Lemma: масса\n",
      "Mystem Lemma: должный              Pymorphy Lemma: должный\n",
      "Mystem Lemma: быть                 Pymorphy Lemma: дать\n",
      "Mystem Lemma: быть                 Pymorphy Lemma: дать\n",
      "Mystem Lemma: достаточно           Pymorphy Lemma: достаточно\n",
      "Mystem Lemma: большой              Pymorphy Lemma: большой\n",
      "Mystem Lemma: сравнимый            Pymorphy Lemma: сравнимый\n",
      "Mystem Lemma: с                    Pymorphy Lemma: с\n",
      "Mystem Lemma: масса                Pymorphy Lemma: масса\n",
      "Mystem Lemma: сириус               Pymorphy Lemma: сириус\n",
      "Mystem Lemma: и                    Pymorphy Lemma: и\n",
      "Mystem Lemma: процион              Pymorphy Lemma: процион\n",
      "Mystem Lemma: соответственно       Pymorphy Lemma: соответственно\n",
      "Mystem Lemma: в                    Pymorphy Lemma: в\n",
      "Mystem Lemma: январь               Pymorphy Lemma: январь\n",
      "Mystem Lemma: год                  Pymorphy Lemma: год\n",
      "Mystem Lemma: элвин                Pymorphy Lemma: элвин\n",
      "Mystem Lemma: грэхэм               Pymorphy Lemma: грэхэма\n",
      "Mystem Lemma: кларк                Pymorphy Lemma: кларк\n",
      "Mystem Lemma: юстировать           Pymorphy Lemma: юстировать\n",
      "Mystem Lemma: дюймовый             Pymorphy Lemma: дюймовый\n",
      "Mystem Lemma: рефрактор            Pymorphy Lemma: рефрактор\n",
      "Mystem Lemma: самый                Pymorphy Lemma: самый\n",
      "Mystem Lemma: большой              Pymorphy Lemma: большой\n",
      "Mystem Lemma: на                   Pymorphy Lemma: на\n",
      "Mystem Lemma: то                   Pymorphy Lemma: по\n",
      "Mystem Lemma: время                Pymorphy Lemma: время\n",
      "Mystem Lemma: телескоп             Pymorphy Lemma: телескоп\n",
      "Mystem Lemma: в                    Pymorphy Lemma: в\n",
      "Mystem Lemma: мир                  Pymorphy Lemma: мир\n",
      "Mystem Lemma: впоследствии         Pymorphy Lemma: впоследствии\n",
      "Mystem Lemma: поставлять           Pymorphy Lemma: поставить\n",
      "Mystem Lemma: семейный             Pymorphy Lemma: небесный\n",
      "Mystem Lemma: фирма                Pymorphy Lemma: фирма\n",
      "Mystem Lemma: кларк                Pymorphy Lemma: кларк\n",
      "Mystem Lemma: в                    Pymorphy Lemma: в\n",
      "Mystem Lemma: обсерватория         Pymorphy Lemma: обсерватория\n",
      "Mystem Lemma: чикагский            Pymorphy Lemma: чикагский\n",
      "Mystem Lemma: университет          Pymorphy Lemma: университет\n",
      "Mystem Lemma: обнаруживать         Pymorphy Lemma: обнаружить\n",
      "Mystem Lemma: в                    Pymorphy Lemma: в\n",
      "Mystem Lemma: непосредственный     Pymorphy Lemma: непосредственный\n",
      "Mystem Lemma: близость             Pymorphy Lemma: близкий\n",
      "Mystem Lemma: от                   Pymorphy Lemma: от\n",
      "Mystem Lemma: сириус               Pymorphy Lemma: сириус\n",
      "Mystem Lemma: тусклый              Pymorphy Lemma: тусклый\n",
      "Mystem Lemma: звездочка            Pymorphy Lemma: звезда\n",
      "Mystem Lemma: это                  Pymorphy Lemma: что\n",
      "Mystem Lemma: быть                 Pymorphy Lemma: дать\n",
      "Mystem Lemma: спутник              Pymorphy Lemma: спутник\n",
      "Mystem Lemma: сириус               Pymorphy Lemma: сириус\n",
      "Mystem Lemma: сириус               Pymorphy Lemma: сириус\n",
      "Mystem Lemma: предсказывать        Pymorphy Lemma: предсказать\n",
      "Mystem Lemma: бессель              Pymorphy Lemma: бессель\n",
      "Mystem Lemma: а                    Pymorphy Lemma: а\n",
      "Mystem Lemma: в                    Pymorphy Lemma: в\n",
      "Mystem Lemma: год                  Pymorphy Lemma: год\n",
      "Mystem Lemma: американский         Pymorphy Lemma: американский\n",
      "Mystem Lemma: астроном             Pymorphy Lemma: астроном\n",
      "Mystem Lemma: м                    Pymorphy Lemma: м\n",
      "Mystem Lemma: шеберль              Pymorphy Lemma: шеберл\n",
      "Mystem Lemma: открывать            Pymorphy Lemma: открытый\n",
      "Mystem Lemma: процион              Pymorphy Lemma: процион\n",
      "Mystem Lemma: подтвердить          Pymorphy Lemma: подтвердить\n",
      "Mystem Lemma: то                   Pymorphy Lemma: по\n",
      "Mystem Lemma: самый                Pymorphy Lemma: самый\n",
      "Mystem Lemma: и                    Pymorphy Lemma: и\n",
      "Mystem Lemma: второй               Pymorphy Lemma: второй\n",
      "Mystem Lemma: предсказание         Pymorphy Lemma: предсказать\n",
      "Mystem Lemma: бессель              Pymorphy Lemma: бессель\n",
      "Mystem Lemma: в                    Pymorphy Lemma: в\n",
      "Mystem Lemma: год                  Pymorphy Lemma: год\n",
      "Mystem Lemma: американский         Pymorphy Lemma: американский\n",
      "Mystem Lemma: астроном             Pymorphy Lemma: астроном\n",
      "Mystem Lemma: уолтер               Pymorphy Lemma: уолтер\n",
      "Mystem Lemma: сидней               Pymorphy Lemma: сидней\n",
      "Mystem Lemma: адамс                Pymorphy Lemma: адамс\n",
      "Mystem Lemma: измерять             Pymorphy Lemma: измерить\n",
      "Mystem Lemma: спектр               Pymorphy Lemma: спектр\n",
      "Mystem Lemma: сириус               Pymorphy Lemma: сириус\n",
      "Mystem Lemma: из                   Pymorphy Lemma: и\n",
      "Mystem Lemma: измерение            Pymorphy Lemma: измерить\n",
      "Mystem Lemma: следовать            Pymorphy Lemma: следовать\n",
      "Mystem Lemma: что                  Pymorphy Lemma: что\n",
      "Mystem Lemma: температура          Pymorphy Lemma: температура\n",
      "Mystem Lemma: не                   Pymorphy Lemma: небо\n",
      "Mystem Lemma: чем                  Pymorphy Lemma: тем\n",
      "Mystem Lemma: у                    Pymorphy Lemma: у\n",
      "Mystem Lemma: сириус               Pymorphy Lemma: сириус\n",
      "Mystem Lemma: по                   Pymorphy Lemma: по\n",
      "Mystem Lemma: современный          Pymorphy Lemma: современный\n",
      "Mystem Lemma: данные               Pymorphy Lemma: данные\n",
      "Mystem Lemma: температура          Pymorphy Lemma: температура\n",
      "Mystem Lemma: поверхность          Pymorphy Lemma: поверхность\n",
      "Mystem Lemma: сириус               Pymorphy Lemma: сириус\n",
      "Mystem Lemma: составлять           Pymorphy Lemma: поставить\n",
      "Mystem Lemma: а                    Pymorphy Lemma: а\n",
      "Mystem Lemma: сириус               Pymorphy Lemma: сириус\n",
      "Mystem Lemma: к                    Pymorphy Lemma: к\n",
      "Mystem Lemma: что                  Pymorphy Lemma: что\n",
      "Mystem Lemma: с                    Pymorphy Lemma: с\n",
      "Mystem Lemma: учет                 Pymorphy Lemma: учёт\n",
      "Mystem Lemma: он                   Pymorphy Lemma: от\n",
      "Mystem Lemma: в                    Pymorphy Lemma: в\n",
      "Mystem Lemma: раз                  Pymorphy Lemma: раз\n",
      "Mystem Lemma: чем                  Pymorphy Lemma: тем\n",
      "Mystem Lemma: у                    Pymorphy Lemma: у\n",
      "Mystem Lemma: сириус               Pymorphy Lemma: сириус\n",
      "Mystem Lemma: светимость           Pymorphy Lemma: светимость\n",
      "Mystem Lemma: указывать            Pymorphy Lemma: указывать\n",
      "Mystem Lemma: на                   Pymorphy Lemma: на\n",
      "Mystem Lemma: очень                Pymorphy Lemma: очень\n",
      "Mystem Lemma: малый                Pymorphy Lemma: белый\n",
      "Mystem Lemma: радиус               Pymorphy Lemma: сириус\n",
      "Mystem Lemma: и                    Pymorphy Lemma: и\n",
      "Mystem Lemma: соответственно       Pymorphy Lemma: соответственно\n",
      "Mystem Lemma: высокий              Pymorphy Lemma: высокий\n",
      "Mystem Lemma: плотность            Pymorphy Lemma: плотность\n",
      "Mystem Lemma: г                    Pymorphy Lemma: г\n",
      "Mystem Lemma: плотность            Pymorphy Lemma: плотность\n",
      "Mystem Lemma: сириус               Pymorphy Lemma: сириус\n",
      "Mystem Lemma: г                    Pymorphy Lemma: г\n",
      "Mystem Lemma: плотность            Pymorphy Lemma: плотность\n",
      "Mystem Lemma: солнце               Pymorphy Lemma: солнце\n",
      "Mystem Lemma: г                    Pymorphy Lemma: г\n"
     ]
    }
   ],
   "source": [
    "def compare_tokens(mystem_tokens, pymorphy_tokens, threshold=0.5):\n",
    "    similar_tokens = []\n",
    "    for mystem_token in mystem_tokens:\n",
    "        for pymorphy_token in pymorphy_tokens:\n",
    "            similarity_score = sum(a == b for a, b in zip(mystem_token, pymorphy_token)) / max(len(mystem_token), len(pymorphy_token))\n",
    "            if similarity_score >= threshold:\n",
    "                similar_tokens.append((mystem_token, pymorphy_token))\n",
    "                break\n",
    "    return similar_tokens\n",
    "\n",
    "similar_tokens = compare_tokens(mystem_lemmas, pymorphy_lemmas)\n",
    "\n",
    "\n",
    "print(\"Similar Tokens Comparison:\")\n",
    "print(\"---------------------------\")\n",
    "for mystem_token, pymorphy_token in similar_tokens:\n",
    "    print(f\"Mystem Lemma: {mystem_token.ljust(20)} Pymorphy Lemma: {pymorphy_token}\")\n"
   ]
  },
  {
   "cell_type": "code",
   "execution_count": 334,
   "metadata": {},
   "outputs": [
    {
     "name": "stdout",
     "output_type": "stream",
     "text": [
      "\n",
      "Lemmas present in Mystem but not in Pymorphy: {'кенигсбергский', 'грэхэм', 'становиться', 'встречать', 'низкий', 'поставлять', 'д', 'звездочка', 'учет', 'измерять', 'меньший', 'обнаруживать', 'шеберль', 'открывать', 'его', 'приходить', 'предсказывать'}\n",
      "\n",
      "Lemmas present in Pymorphy but not in Mystem: {'предсказать', '25', 'ниже', 'шеберл', 'второе', '—', 'dearborn', '1', '/', ')', '4', 'встретить', 'кёнигсбергский', 'открыть', 'дать', 'см3', '.', '1844', '106', 'далее', '10', '18', '),', 'тем', 'обнаружить', ',', ']', '1755', '1915', 'b', '1896', 'a', '6', '-', '(', 'k', 'поставить', '0', 'прийти', '1862', 'учёт', '5', '~', 'грэхэма', '000', 'telescope', 'измерить', 'звёздочка', '[', 'стать'}\n"
     ]
    }
   ],
   "source": [
    "mystem_set = set(mystem_lemmas)\n",
    "pymorphy_set = set(pymorphy_lemmas)\n",
    "\n",
    "diff_mystem_pymorphy = mystem_set - pymorphy_set\n",
    "diff_pymorphy_mystem = pymorphy_set - mystem_set\n",
    "\n",
    "print(\"\\nLemmas present in Mystem but not in Pymorphy:\", diff_mystem_pymorphy)\n",
    "print(\"\\nLemmas present in Pymorphy but not in Mystem:\", diff_pymorphy_mystem)\n"
   ]
  },
  {
   "cell_type": "markdown",
   "metadata": {},
   "source": [
    "### 4. Лемматизация в SpaCy"
   ]
  },
  {
   "cell_type": "code",
   "execution_count": 335,
   "metadata": {},
   "outputs": [],
   "source": [
    "import spacy\n",
    "\n",
    "nlp = spacy.load(\"en_core_web_sm\")"
   ]
  },
  {
   "cell_type": "code",
   "execution_count": 336,
   "metadata": {},
   "outputs": [
    {
     "name": "stdout",
     "output_type": "stream",
     "text": [
      "['\\n', 'вторым', 'и', 'третьим', 'открытыми', 'белыми', 'карликами', 'стали', 'Сириус', 'B', 'и', 'Процион', 'B.', 'В', '1844', 'году', 'директор', 'Кёнигсбергской', 'обсерватории', 'Фридрих', 'Бессель', ',', 'анализируя', 'данные', 'наблюдений', ',', 'которые', 'велись', 'с', '1755', 'года', ',', 'обнаружил', ',', 'что', 'Сириус', ',', 'ярчайшая', 'звезда', 'земного', 'неба', ',', 'и', 'Процион', 'периодически', ',', 'хотя', 'и', 'весьма', 'слабо', ',', 'отклоняются', 'от', 'прямолинейной', 'траектории', 'движения', 'по', 'небесной', 'сфере[5', ']', '.', 'Бессель', 'пришёл', 'к', 'выводу', ',', 'что', 'у', 'каждой', 'из', 'них', 'должен', 'быть', 'близкий', 'спутник', '.', 'Сообщение', 'было', 'встречено', 'скептически', ',', 'поскольку', 'слабый', 'спутник', 'оставался', 'ненаблюдаемым', ',', 'а', 'его', 'масса', 'должна', 'была', 'быть', 'достаточно', 'велика', '—', 'сравнимой', 'с', 'массой', 'Сириуса', 'и', 'Проциона', ',', 'соответственно', '.', '\\n\\n', 'В', 'январе', '1862', 'года', 'Элвин', 'Грэхэм', 'Кларк', ',', 'юстируя', '18', '-', 'дюймовый', 'рефрактор', ',', 'самый', 'большой', 'на', 'то', 'время', 'телескоп', 'в', 'мире', '(', 'Dearborn', 'Telescope', ')', ',', 'впоследствии', 'поставленный', 'семейной', 'фирмой', 'Кларков', 'в', 'обсерваторию', 'Чикагского', 'университета', ',', 'обнаружил', 'в', 'непосредственной', 'близости', 'от', 'Сириуса', 'тусклую', 'звёздочку', '.', 'это', 'был', 'спутник', 'Сириуса', ',', 'Сириус', 'B', ',', 'предсказанный', 'Бесселем[6', ']', '.', 'А', 'в', '1896', 'году', 'американский', 'астроном', 'Д.', 'М.', 'Шеберле', 'открыл', 'Процион', 'B', ',', 'подтвердив', 'тем', 'самым', 'и', 'второе', 'предсказание', 'Бесселя', '.', '\\n\\n', 'В', '1915', 'году', 'американский', 'астроном', 'Уолтер', 'Сидней', 'Адамс', 'измерил', 'спектр', 'Сириуса', 'B.', 'Из', 'измерений', 'следовало', ',', 'что', 'его', 'температура', 'не', 'ниже', ',', 'чем', 'у', 'Сириуса', 'A', '(', 'по', 'современным', 'данным', ',', 'температура', 'поверхности', 'Сириуса', 'B', 'составляет', '25', '000', 'K', ',', 'а', 'Сириуса', 'A', '—', '10', '000', 'к', ')', ',', 'что', ',', 'с', 'учётом', 'его', 'в', '10', '000', 'раз', 'меньшей', ',', 'чем', 'у', 'Сириуса', 'A', ',', 'светимости', 'указывает', 'на', 'очень', 'малый', 'радиус', 'и', ',', 'соответственно', ',', 'высокую', 'плотность', '—', '106', 'г', '/', 'см3', '(', 'плотность', 'Сириуса', '~0,25', 'г', '/', 'см3', ',', 'плотность', 'Солнца', '~1,4', 'г', '/', 'см3', ')', '.', '\\n']\n"
     ]
    }
   ],
   "source": [
    "spacy_doc = nlp(text)\n",
    "spacy_lemmas = [token.lemma_ for token in spacy_doc]\n",
    "print(spacy_lemmas)"
   ]
  },
  {
   "cell_type": "code",
   "execution_count": 338,
   "metadata": {},
   "outputs": [],
   "source": [
    "spacy_set = set(spacy_lemmas)\n",
    "mystem_lemmas = [...]\n",
    "pymorphy_lemmas = [...] \n",
    "spacy_unique_mystem = spacy_set - mystem_set\n",
    "spacy_unique_pymorpy = spacy_set - pymorphy_set"
   ]
  },
  {
   "cell_type": "code",
   "execution_count": 340,
   "metadata": {},
   "outputs": [
    {
     "name": "stdout",
     "output_type": "stream",
     "text": [
      "Comparison of SpaCy Lemmatization with Mystem and Pymorphy:\n",
      "-------------------------------------------------------------\n",
      "Total Lemmas from SpaCy: 173\n",
      "Unique Lemmas of SpaCy compared to Mystem: 123\n",
      "Unique Lemmas of SpaCy compared to Pymorphy: 102\n",
      "\n",
      "Unique Lemmas of SpaCy compared to Mystem:\n",
      "{'стали', 'второе', '—', '/', 'Бесселя', 'была', 'наблюдений', 'Бесселем[6', '1755', 'пришёл', '1896', 'Бессель', '~1,4', 'Сидней', 'А', 'Шеберле', 'Солнца', '000', 'ненаблюдаемым', '25', 'Сириус', 'ярчайшая', 'траектории', 'открытыми', 'см3', 'был', 'семейной', 'выводу', 'Фридрих', 'Процион', 'белыми', 'было', 'Dearborn', 'велика', 'Чикагского', 'подтвердив', 'A', 'велись', '1915', 'составляет', '-', 'меньшей', 'мире', 'движения', 'измерил', 'тусклую', 'обнаружил', 'Кёнигсбергской', 'K', 'поставленный', 'юстируя', 'учётом', 'данным', 'поверхности', 'М.', 'ниже', 'сравнимой', 'Элвин', 'обсерваторию', 'массой', 'Сириуса', ')', 'университета', 'анализируя', 'указывает', 'вторым', 'года', 'них', 'встречено', '10', 'году', 'обсерватории', 'тем', 'самым', 'Кларк', ',', 'открыл', ']', 'прямолинейной', 'сфере[5', '(', 'фирмой', 'современным', 'предсказанный', '1862', 'Telescope', 'звёздочку', 'должен', 'небесной', 'следовало', 'земного', 'должна', 'B.', 'непосредственной', 'Уолтер', 'неба', '.', 'близости', 'каждой', 'измерений', '\\n\\n', 'B', 'отклоняются', 'Из', '1844', 'светимости', '106', 'Грэхэм', '18', 'Д.', '\\n', 'Кларков', 'В', 'январе', 'третьим', 'Адамс', 'карликами', 'оставался', 'Проциона', 'Сообщение', 'которые', 'высокую', '~0,25'}\n",
      "\n",
      "Unique Lemmas of SpaCy compared to Pymorphy:\n",
      "{'стали', 'Бесселя', 'наблюдений', 'была', 'Бесселем[6', 'пришёл', 'Бессель', '~1,4', 'Сидней', 'А', 'Шеберле', 'Солнца', 'ненаблюдаемым', 'Сириус', 'траектории', 'ярчайшая', 'открытыми', 'был', 'семейной', 'выводу', 'Фридрих', 'Процион', 'белыми', 'было', 'Dearborn', 'велика', 'Чикагского', 'подтвердив', 'A', 'велись', 'составляет', 'меньшей', 'мире', 'движения', 'измерил', 'его', 'тусклую', 'обнаружил', 'Кёнигсбергской', 'K', 'поставленный', 'юстируя', 'учётом', 'данным', 'поверхности', 'М.', 'сравнимой', 'Элвин', 'обсерваторию', 'массой', 'Сириуса', 'университета', 'анализируя', 'указывает', 'вторым', 'года', 'них', 'встречено', 'году', 'обсерватории', 'самым', 'Кларк', 'открыл', 'прямолинейной', 'сфере[5', 'фирмой', 'современным', 'предсказанный', 'Telescope', 'звёздочку', 'должен', 'небесной', 'следовало', 'земного', 'должна', 'B.', 'непосредственной', 'Уолтер', 'неба', 'близости', 'каждой', 'измерений', '\\n\\n', 'B', 'отклоняются', 'Из', 'светимости', 'Грэхэм', 'Д.', '\\n', 'Кларков', 'В', 'январе', 'третьим', 'Адамс', 'карликами', 'оставался', 'Проциона', 'Сообщение', 'которые', 'высокую', '~0,25'}\n"
     ]
    }
   ],
   "source": [
    "print(\"Comparison of SpaCy Lemmatization with Mystem and Pymorphy:\")\n",
    "print(\"-------------------------------------------------------------\")\n",
    "print(\"Total Lemmas from SpaCy:\", len(spacy_set))\n",
    "print(\"Unique Lemmas of SpaCy compared to Mystem:\", len(spacy_unique_mystem))\n",
    "print(\"Unique Lemmas of SpaCy compared to Pymorphy:\", len(spacy_unique_pymorpy))\n",
    "print(\"\\nUnique Lemmas of SpaCy compared to Mystem:\")\n",
    "print(spacy_unique_mystem)\n",
    "print(\"\\nUnique Lemmas of SpaCy compared to Pymorphy:\")\n",
    "print(spacy_unique_pymorpy)"
   ]
  }
 ],
 "metadata": {
  "kernelspec": {
   "display_name": "env",
   "language": "python",
   "name": "python3"
  },
  "language_info": {
   "codemirror_mode": {
    "name": "ipython",
    "version": 3
   },
   "file_extension": ".py",
   "mimetype": "text/x-python",
   "name": "python",
   "nbconvert_exporter": "python",
   "pygments_lexer": "ipython3",
   "version": "3.8.18"
  }
 },
 "nbformat": 4,
 "nbformat_minor": 2
}
